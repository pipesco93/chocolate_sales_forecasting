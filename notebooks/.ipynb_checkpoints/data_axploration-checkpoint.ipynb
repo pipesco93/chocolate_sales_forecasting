{
 "cells": [
  {
   "cell_type": "code",
   "execution_count": null,
   "id": "1bbc4322-718e-4c39-a511-d0f292b39262",
   "metadata": {},
   "outputs": [],
   "source": [
    "import pandas as pd  # For data manipulation\n",
    "import matplotlib.pyplot as plt  # For visualization\n",
    "import seaborn as sns  # For better-looking plots\n",
    "\n",
    "# Load the dataset\n",
    "df = pd.read_csv(\"data/chocolate_sales.csv\")\n",
    "\n",
    "# Display the first few rows\n",
    "df.head()\n"
   ]
  }
 ],
 "metadata": {
  "kernelspec": {
   "display_name": "Python 3 (ipykernel)",
   "language": "python",
   "name": "python3"
  },
  "language_info": {
   "codemirror_mode": {
    "name": "ipython",
    "version": 3
   },
   "file_extension": ".py",
   "mimetype": "text/x-python",
   "name": "python",
   "nbconvert_exporter": "python",
   "pygments_lexer": "ipython3",
   "version": "3.10.6"
  }
 },
 "nbformat": 4,
 "nbformat_minor": 5
}
